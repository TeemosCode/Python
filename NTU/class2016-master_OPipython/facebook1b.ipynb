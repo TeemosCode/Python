{
 "cells": [
  {
   "cell_type": "code",
   "execution_count": 1,
   "metadata": {
    "collapsed": true
   },
   "outputs": [],
   "source": [
    "import facebook"
   ]
  },
  {
   "cell_type": "code",
   "execution_count": 2,
   "metadata": {
    "collapsed": true
   },
   "outputs": [],
   "source": [
    "token=\"EAACEdEose0cBAGVqzUafyZCDG7WiZBY6e104Dt1NuLeI4Yi5mIqMhWX18P17vXbVpS019ZCweZCyNQ84ML4ZCyA23K0Oni0LfAbVG4m7NilkyLjQOZARDpmRAAZBAxbzusEf6tbVo7TAoHQcrzO5Mfk2Hgw7jajePTrX5oisofNbQZDZD\""
   ]
  },
  {
   "cell_type": "code",
   "execution_count": 4,
   "metadata": {
    "collapsed": true
   },
   "outputs": [],
   "source": [
    "graph = facebook.GraphAPI(token, version=\"2.5\")"
   ]
  },
  {
   "cell_type": "code",
   "execution_count": 7,
   "metadata": {
    "collapsed": false
   },
   "outputs": [
    {
     "data": {
      "text/plain": [
       "{u'id': u'10201382289514027', u'name': u'\\u9b4f\\u6fa4\\u4eba'}"
      ]
     },
     "execution_count": 7,
     "metadata": {},
     "output_type": "execute_result"
    }
   ],
   "source": [
    "obj = graph.get_object(\"me\")\n",
    "obj"
   ]
  },
  {
   "cell_type": "code",
   "execution_count": 11,
   "metadata": {
    "collapsed": false
   },
   "outputs": [
    {
     "name": "stdout",
     "output_type": "stream",
     "text": [
      "10201382289514027\n"
     ]
    }
   ],
   "source": [
    "print obj['id']"
   ]
  },
  {
   "cell_type": "code",
   "execution_count": 10,
   "metadata": {
    "collapsed": false
   },
   "outputs": [
    {
     "name": "stdout",
     "output_type": "stream",
     "text": [
      "魏澤人\n"
     ]
    }
   ],
   "source": [
    "print obj['name']"
   ]
  },
  {
   "cell_type": "code",
   "execution_count": 12,
   "metadata": {
    "collapsed": false
   },
   "outputs": [
    {
     "name": "stdout",
     "output_type": "stream",
     "text": [
      "{u'favorite_teams': [{u'id': u'1590154637906351', u'name': u'\\u6771\\u83ef\\u61c9\\u6578\\u58d8\\u7403\\u968a'}], u'id': u'10201382289514027'}\n"
     ]
    }
   ],
   "source": [
    "obj = graph.get_object('me', fields=['id','name','gender', 'favorite_teams'])\n",
    "print obj"
   ]
  },
  {
   "cell_type": "code",
   "execution_count": 26,
   "metadata": {
    "collapsed": false
   },
   "outputs": [
    {
     "name": "stdout",
     "output_type": "stream",
     "text": [
      "東華應數壘球隊\n"
     ]
    }
   ],
   "source": [
    "print obj['favorite_teams'][0]['name']"
   ]
  },
  {
   "cell_type": "code",
   "execution_count": 17,
   "metadata": {
    "collapsed": false
   },
   "outputs": [],
   "source": [
    "a=['a', 1, '4', \"hhh\"]"
   ]
  },
  {
   "cell_type": "code",
   "execution_count": 74,
   "metadata": {
    "collapsed": false
   },
   "outputs": [],
   "source": [
    "friends = graph.get_object('me', fields=['friends.limit(1000)'])['friends']\n",
    "#friends = graph.get_connections('1025586530', 'friends')"
   ]
  },
  {
   "cell_type": "code",
   "execution_count": 84,
   "metadata": {
    "collapsed": false
   },
   "outputs": [
    {
     "name": "stdout",
     "output_type": "stream",
     "text": [
      "579597656 海總理\n",
      "[回聲樂團 春佑] [詹詠然~Yung-Jan Chan] [陳浩南]\n",
      "604202290 Yau Kwan Kiu\n",
      "[黑嘉嘉 Joanne Missingham] [Magnus Midtbø] [Roca Viva - Escalada y Fotografia] [羽生結弦 Yuzuru Hanyu] [台灣女子職業圍棋棋士] [滑冰 林立雪] [Vivian Chang Equestrian] [Nootsara Tomkom[นุศรา ต้อมคำ] FC] [Sarah Lee Wai Sze] [Zhi Gin Lam]\n",
      "650797914 Rex Tsai\n",
      "[SKYtomo] [Jason Belmonte] [怪獸訓練 (Monster training)] [李虹瑩 Hung-Ying Lee] [Tim Emmett] [Jamie Clarke] [王宇佐 Jimmy Wang]\n",
      "10152113913020617 John Chen\n",
      "[戰勝體脂肪] [健身狂 Sally Chen] [Sabina Altynbekova]\n",
      "753966671 Yi-Hsi Lee\n",
      "[黑嘉嘉 Joanne Missingham] [Jeremy Lin 林書豪] [Jeremy Lin]\n",
      "1025586530 Chien-Hsun Chen\n",
      "[Leo Messi] [Warrior Dash]\n",
      "1128886899 Timothy Chen\n",
      "[DeMarco Murray]\n",
      "1193385886 Chia-Chi Chang\n",
      "[黑嘉嘉 Joanne Missingham]\n",
      "1233266413 Mark Chang\n",
      "[Mark Cavendish] [輔大金剛狼邱柏學] [Michael Phelps] [菲爾普斯] [Michael Phelps] [Alberto Contador] [Andy Schleck] [李詹瑩  Joy Lee] [杨建利] [浩克Hulk] [On MikeWei 2Tri.] [殺人強] [莊智淵  Chih-Yuan Chuan] [Female Fitness Models] [Skyview yeh]\n",
      "1284882421 Joey Lai\n",
      "[Michael Jordan] [Lu Yen-hsun] [Steve Nash] [Kobe Bryant] [Valentin Delluc] [Kristaps Porzingis] [Aaron Gordon] [Miesha Tate] [Ronda Rousey] [Holly Holm] [Morris Chen-陳漢承] [Kemba Walker] [林志傑 Lin Chih-Chieh] [詹皓晴 Hao-Ching Chan] [Klay Thompson] [Manny Pacquiao] [Monta Ellis] [Anthony Davis] [Floyd Mayweather] [Leo Messi] [David Beckham] [Cameron Winklevoss] [John Wall] [DeMar DeRozan] [Serge Ibaka] [Joakim Noah] [Dirk Nowitzki] [Mike Conley Jr.] [Arnold Sports Festival] [Jeremy Lin 林書豪] [Shaquille O' Neal] [Kevin Durant] [Paul Pierce] [Rajon Rondo] [Michael Phelps] [Kevin Garnett] [Stephen Curry] [Pau Gasol] [Muhammad Ali] [Usain Bolt] [Wayne Rooney] [Mancino Roberta] [Bernadett Matassa Fansite] [Novak Djokovic] [Andy Murray] [Rafa Nadal] [林義傑] [Deandre Jordan] [Carmelo Anthony] [Luol Deng] [Damian Lillard] [Ray Allen] [Nate Robinson] [Deron Williams] [Rudy Gay] [Russell Westbrook] [Ricky Rubio] [Paul George] [陳彥博 Tommy Chen] [Kevin Love] [Kyrie Irving] [Blake Griffin] [Chris Paul] [Chris Bosh] [Marc Gasol] [Sean Chen 陳信安] [Dwyane Wade] [Dwight Howard] [Chandler Parsons] [James Harden] [夢遊寫真人謝淑薇 Suwei Hsieh] [姚明 Yao Ming] [Derrick Rose] [Tim Duncan] [Tony Parker]\n",
      "1322255751 Summit Suen\n",
      "[Xavi Hernandez] [Xavier Chen〡Official 夏維耶官方頁] [陳柏良 Chen Po-Liang] [統一獅官方粉絲團] [Lee Chong Wei 李宗伟] [MLB Memes] [紅面棋王周俊勳] [王睿 Ruei Wang] [Zach LaVine] [Jordan \"Mission Impossible\" Kilganon] [Aaron Gordon] [陳浩瑋 CHEN HAO WEI] [Peyton Manning] [Devin Funchess] [Jonathan Stewart] [Cam Newton] [Thomas Davis] [Von Miller] [Larry Fitzgerald] [Kurt Warner] [高國輝] [温智豪 Wen Chih-Hao] [時煒／時國司 Shih Wei/Tsukasa Tokikuni] [Séan GARNIER S3 freestyle ball] [曾淑娥與林曼婷 - 征服歐洲女足] [陳勁宏] [黑嘉嘉 Joanne Missingham] [Yaki Yen 殷亞吉] [Mou Amougo 李茂] [柯昱廷 Ko Yu-Ting] [Manny Pacquiao] [洛老師運動/運彩粉絲團] [Shinji Kagawa] [Chencho Gyeltshen] [Lu Kun-chi] [SkillTwins] [游呈駿 Tony Yu] [朱恩樂(Onur Dogan)粉絲團] [Rob Gronkowski -Gronk] [Kevin De Bruyne] [黑色島國大腸陣線] [蘇敏 Ming Sue] [陳信安足球學校] [Tony Chen] [王哥] [Per Mertesacker] [Luis Suarez] [Ilkay Gündogan] [Roman Weidenfeller] [Sami Khedira] [Łukasz Piszczek] [Ricardo Kakà] [Robert Lewandowski] [Bastian Schweinsteiger] [Toni Kroos] [Edin Džeko] [Mats Hummels] [Theo Walcott] [Jack Wilshere] [Mario Götze] [Juan Mata] [Eden Hazard] [André Schürrle] [Marco Reus] [Jeremy Lin 林書豪] [戴靖潔/  Tai Ching Chieh] [戴資穎/ Tai Tzu Ying] [Shinji KAGAWA(香川真司) Dortmund] [陳偉殷 チェン・ウェイン CHEN WEIYIN] [Chris Young] [Yen-Hsun Rendy Lu] [Iker Casillas] [Joachim Low] [Alessandro Diamanti] [Lin Man-ting] [台灣足球家族踢球地點大蒐集] [John Farnworth]\n",
      "1448347314 束凱文\n",
      "[colalin]\n",
      "1555532684 Chun-Yu Tseng\n",
      "[Kim Sung Jin] [Huang Boo(黃昱瑄)] [Evgeni Plushenko]\n",
      "1578041896 Andy Dai\n",
      "[飆捍] [台灣巨炮#52 陳金鋒] [Matt Cain] [Matt Cain] [Barry Bonds]\n",
      "1681390745 Colin Su\n",
      "[陳建禎 CHEN Chien-Chen] [洪鈺釗 Yu-Chao Hung] [政大應數5號/交大女排18號]\n",
      "1694098971 黃智鑠\n",
      "[Jeremy Lin 林書豪] [活力充珮] [Robinson Cano] [Mark Teixeira] [Derek Jeter] [Chien-Ming Wang] [陳偉殷 チェン・ウェイン CHEN WEIYIN] [王建民 Chien Ming Wang] [郭泓志(Hong-Chih Kuo)]\n",
      "1734915642 Bob Wei\n",
      "[Roger Federer] [Rafa Nadal] [Novak Djokovic] [Stephen Curry] [黑嘉嘉 Joanne Missingham] [Jeremy Lin 林書豪] [Stan Wawrinka] [Chien Ming Wang]\n",
      "10200913797886668 Chih-Cheng Liang\n",
      "[黑嘉嘉 Joanne Missingham]\n",
      "100000105472991 George Chao\n",
      "[黑嘉嘉 Joanne Missingham] [Jeremy Lin 林書豪] [ChunMin 楊浚泯] [Rajon Rondo] [跳躍力聖經 Vertical Training Society] [飛人 陳濡群] [Chien Ming Wang] [輔大金剛狼邱柏學] [Steve Nash] [Sean Chen 陳信安]\n",
      "841861315828928 Eugene Kow\n",
      "[MiSTakE] [Dinter] [無限期支持籃球正妹孫壘魂] [Toyz] [Leo Messi] [西門夜說/westdoor/] [Jeremy Lin 林書豪] [徐文瑾] [Carles Puyol]\n",
      "764891540198412 Hsu Calvin\n",
      "[Shelly-Ann Fraser-Pryce] [Dominique Wilkins] [[HBK]『黑曼巴』Kobe Bryant] [Andrelton Simmons] [Manny Pacquiao] [Henrik \"Froggen\" Hansen] [Ronaldinho Gaúcho] [王元均  圍棋] [Thomas Müller] [Rafa Nadal] [Yen-Hsun Rendy Lu] [Neymar Jr.] [David Luiz] [Paul George] [Chris Paul] [Shaquille O' Neal] [Kevin Durant] [Warren Weir] [Dwyane Wade] [Dwight Howard] [Steve Nash] [Pau Gasol] [Kobe Bryant] [Maria Sharapova] [Usain Bolt] [Andy Murray] [Novak Djokovic] [Roger Federer]\n",
      "868994716457852 林俊逸\n",
      "[再不打球就等死]\n",
      "100000528111238 Jackle Chen\n",
      "[Michael Jordan] [跳躍力聖經 Vertical Training Society] [哈薩克女排選手莎賓娜 Altynbekova Sabina] [James Kingston] [Nani]\n",
      "100001043478640 Craig Kuo-Jen Chao\n",
      "[台灣 WAKE GIRL I Ting 徐依婷]\n",
      "100001284407552 Hsu-Wei Hsu\n",
      "[統一獅官方粉絲團]\n",
      "737834339621853 周忠毅\n",
      "[台大資工b04毛鈺翔之台大張繼科 資工莊智淵 鈺翔區全開 擁有德田十二球經之球桌上的魔術師]\n",
      "699731236782745 Chia H Lai\n",
      "[黃檸檬] [Lamigo Monkeys] [盧明珠 - Lu Ming-Chu] [吉雷米]\n",
      "466344503500538 Alexander  Shieh\n",
      "[再興女子陸上競技部] [Yen-Hsun Rendy Lu]\n",
      "403664106439248 Adrian Liaw\n",
      "[Carles Puyol] [Xavi Hernandez] [Leoneo Messi] [Josh Sheehan] [Kristina Mladenovic] [Anna Kournikova] [Belinda Bencic] [Stefanie Graf] [Alizé Cornet] [Laura Robson] [Martina Hingis] [Metta World Peace] [Genie Bouchard] [Ronaldo Nazário de Lima] [Ronda Rousey] [Garbiñe Muguruza] [Sabine Lisicki] [Petra Kvitová] [Alex Rodriguez] [Leo Messi] [Gareth Bale] [Zlatan Ibrahimovic] [LAMPARD] [WiffleBoy28] [Tom Pagès] [Nate Adams] [Ronnie Renner FMX] [Jeremy TwitchThis Stenberg] [Cam (sincs) Sinclair] [Mat Rebeaud] [Ana Ivanovic] [Caroline Wozniacki] [Maria Sharapova] [Levi Sherwood] [André Villa] [Pedro] [Thomas Müller] [Víctor Valdés] [Gerard Piqué] [Brodie Smith] [Mesut Özil] [Iker Casillas] [James Stewart] [Robbie Maddison] [Novak Djokovic] [Rafa Nadal] [Chris Bosh] [Victoria Azarenka] [Andy Murray] [Kobe Bryant] [LeBron James] [Michael Jordan] [Derrick Rose] [林書豪]\n"
     ]
    }
   ],
   "source": [
    "stat = {}\n",
    "for f in friends['data']:\n",
    "    key = \"favorite_athletes\"\n",
    "    obj = graph.get_object(f['id'], fields=['id','name', key])\n",
    "    if key in obj:\n",
    "        print f['id'], f['name']\n",
    "        for team in obj[key]:\n",
    "            print \"[\"+team['name']+\"]\", \n",
    "            if team['name'] not in stat:\n",
    "                stat[team['name']] = 0\n",
    "            stat[team['name']] += 1\n",
    "        print\n",
    "    "
   ]
  },
  {
   "cell_type": "code",
   "execution_count": 33,
   "metadata": {
    "collapsed": false,
    "scrolled": false
   },
   "outputs": [
    {
     "data": {
      "text/plain": [
       "{u'id': u'1233266413',\n",
       " u'posts': {u'data': [{u'created_time': u'2016-05-10T06:55:30+0000',\n",
       "    u'id': u'1233266413_10206720529751878',\n",
       "    u'story': u'Mark Chang shared a link.'},\n",
       "   {u'created_time': u'2016-05-10T05:27:05+0000',\n",
       "    u'id': u'1233266413_10206720136342043',\n",
       "    u'message': u'https://tw.pycon.org/2016/zh-hant/events/talk/27429730160476163/'},\n",
       "   {u'created_time': u'2016-05-09T15:07:18+0000',\n",
       "    u'id': u'1233266413_10206716170122890',\n",
       "    u'message': u'\\u6295\\u7a3f\\u4e00\\u4e0b...\\n\\u4f86\\u770b\\u770b\\u4eba\\u5de5\\u667a\\u6167\\u5beb\\u8a69\\u80fd\\u4e0d\\u80fd\\u5beb\\u8d0f\\u4eba\\u985e'},\n",
       "   {u'created_time': u'2016-05-09T14:32:42+0000',\n",
       "    u'id': u'1233266413_10206716045559776',\n",
       "    u'message': u'\\u592a\\u4e45\\u6c92\\u505a\\u6709\\u6c27\\uff0c\\u90fd\\u53ea\\u6709\\u91cd\\u8a13\\n\\u9ad4\\u8102\\u80aa\\u7adf\\u7136\\u8d85\\u904e20%\\u4e86\\n\\n\\u525b\\u597d\\u4eca\\u5929\\u53bb\\u653f\\u5927\\uff0c\\u7528\\u6821\\u5712\\u8eca\\u786c\\u722c\\u4e86\\u5169\\u8d9f\\u74b0\\u5c71\\u9053\\n\\u4ee5\\u5f8c\\u53bb\\u653f\\u5927\\u6642\\u90fd\\u8981\\u7528\\u6821\\u5712\\u8eca\\u9a0e\\u5b8c\\u5169\\u8d9f\\u74b0\\u5c71\\u9053\\u624d\\u80fd\\u56de\\u5bb6\\n\\n\\u60f3\\u5230\\u9a0e\\u516c\\u8def\\u8eca\\u8981\\u5148\\u7a7f\\u4e00\\u5806\\u6709\\u7684\\u6c92\\u7684\\u88dd\\u5099...\\u9084\\u662f\\u9a0e\\u6821\\u5712\\u8eca\\u6bd4\\u8f03\\u65b9\\u4fbf',\n",
       "    u'story': u'Mark Chang at \\u570b\\u7acb\\u653f\\u6cbb\\u5927\\u5b78   National Chengchi University (NCCU).'},\n",
       "   {u'created_time': u'2016-05-06T13:49:29+0000',\n",
       "    u'id': u'1233266413_10206695489925898',\n",
       "    u'message': u'\\u6ce1\\u4e86\\u4e00\\u676f\\u4e73\\u6e05\\u86cb\\u767d\\uff0c\\u6ce1\\u5b8c\\u5f8c\\u7e7c\\u7e8c\\u5bebCode\\uff0c\\u7d50\\u679c\\u5e7e\\u500b\\u5c0f\\u6642\\u5f8c\\u624d\\u767c\\u73fe\\u5c45\\u7136\\u5fd8\\u4e86\\u628a\\u5b83\\u559d\\u6389\\uff0c\\u53ea\\u597d\\u5012\\u6389\\u518d\\u91cd\\u6ce1\\u4e00\\u676f'},\n",
       "   {u'created_time': u'2016-05-06T08:24:29+0000',\n",
       "    u'id': u'1233266413_10206694156532564',\n",
       "    u'message': u'http://www.appledaily.com.tw/realtimenews/article/new/20160505/853730/'},\n",
       "   {u'created_time': u'2016-05-05T15:45:04+0000',\n",
       "    u'id': u'1233266413_10206689601938702',\n",
       "    u'message': u'\\u5de5\\u7a0b\\u5e2b  Desires  \\u6709\\u5973\\u670b\\u53cb\\n\\u5de5\\u7a0b\\u5e2b \\u60f3\\u8981 \\u6709\\u5973\\u670b\\u53cb\\u3002\\n\\n'},\n",
       "   {u'created_time': u'2016-05-05T14:48:51+0000',\n",
       "    u'id': u'1233266413_10206689256130057',\n",
       "    u'message': u'Artistic Style Transfer for Videos \\n'},\n",
       "   {u'created_time': u'2016-05-05T12:17:45+0000',\n",
       "    u'id': u'1233266413_10206688320186659',\n",
       "    u'message': u'https://www.facebook.com/datasci.info/posts/466872603506976?__mref=message_bubble',\n",
       "    u'story': u\"Mark Chang shared Learning By  Hacking's post.\"},\n",
       "   {u'created_time': u'2016-05-04T11:38:55+0000',\n",
       "    u'id': u'1233266413_10206681173047985',\n",
       "    u'message': u'http://ww.apple01.net/cat101/node1055196\\n\\u6211\\u53ea\\u6709\\u505a\\u904e\\u524d\\u9762\\u5e7e\\u9805\\u800c\\u5df2...'},\n",
       "   {u'created_time': u'2016-05-04T10:10:11+0000',\n",
       "    u'id': u'1233266413_10206680862800229',\n",
       "    u'message': u'\\u53ef\\u4ee5\\u62ff\\u4f86\\u5beb\\u666e\\u5316\\u5be6\\u9a57\\u5831\\u544a...',\n",
       "    u'story': u\"Mark Chang shared ETtoday\\u79d1\\u6280\\u96f2's video.\"},\n",
       "   {u'created_time': u'2016-05-04T04:12:54+0000',\n",
       "    u'id': u'1233266413_10206679442884732',\n",
       "    u'story': u\"Mark Chang shared Taiwan R User Group's post.\"},\n",
       "   {u'created_time': u'2016-05-04T02:49:22+0000',\n",
       "    u'id': u'1233266413_10206678929111888',\n",
       "    u'message': u'\\u6709\\u4eba\\u554f\\uff1a\\u300c\\u6211\\u6bd4\\u8f03\\u597d\\u5947\\u7684\\u662f\\uff0c\\u8eab\\u70ba\\u7b2c\\u4e00\\u5b78\\u5e9c\\u96fb\\u8cc7\\u9662\\uff0c\\u4e0d\\u662f\\u6703\\u6709\\u59b9\\u5b50\\u81ea\\u5df1\\u9760\\u904e\\u4f86\\u55ce\\uff1f \\u300d\\n\\u6211\\uff1a\\u300c\\u6211\\u9ad8\\u4e2d\\u6642\\u4e00\\u76f4\\u4ee5\\u70ba\\u8003\\u4e0a\\u81fa\\u5927\\u96fb\\u6a5f\\u5f8c\\u5c31\\u6709\\u5f88\\u591a\\u6b63\\u59b9\\u5012\\u8cbc\\uff0c\\u4f46\\u8003\\u4e0a\\u5f8c\\u624d\\u77e5\\u9053\\u6839\\u672c\\u4e0d\\u662f\\u9019\\u6a23\\uff0c\\u6240\\u4ee5\\u59b9\\u5b50\\u771f\\u7684\\u4e0d\\u6703\\u81ea\\u5df1\\u9760\\u904e\\u4f86\\u7684\\uff01\\u300d\\n----\\n\\u4e0d\\u904e\\uff0c\\u5012\\u662f\\u6703\\u6709\\u4e0d\\u5c11\\u7375\\u4eba\\u982d\\u7684\\u9760\\u904e\\u4f86\\uff0c\\u662f\\u771f\\u7684....'},\n",
       "   {u'created_time': u'2016-05-04T02:39:27+0000',\n",
       "    u'id': u'1233266413_10206678795988560',\n",
       "    u'message': u'http://disp.cc/b/163-9nS4'},\n",
       "   {u'created_time': u'2016-05-03T17:25:14+0000',\n",
       "    u'id': u'1233266413_10206676287205842',\n",
       "    u'message': u'\\u665a\\u4e0a\\u5341\\u4e8c\\u9ede\\u53bb\\u9084\\u662f\\u5f88\\u591a\\u4eba\\n\\u8981\\u5230\\u5341\\u4e8c\\u9ede\\u534a\\u4ee5\\u5f8c\\u4eba\\u624d\\u6703\\u6bd4\\u8f03\\u5c11',\n",
       "    u'story': u'Mark Chang at \\u9ad4\\u80b2\\u5ba2 1ST Fitness.'},\n",
       "   {u'created_time': u'2016-04-30T10:22:10+0000',\n",
       "    u'id': u'1233266413_10206655286440836',\n",
       "    u'message': u'http://playground.tensorflow.org/\\n\\u9019\\u9084\\u633a\\u65b9\\u4fbf\\u7684\\n\\n\\u672c\\u4f86\\u6b63\\u5728\\u7169\\u60f1\\u600e\\u9ebc\\u7522\\u751foverfitting\\u548cunderfitting\\u7684example\\n\\u7d50\\u679c\\u7528\\u9019\\u500b\\u4e00\\u4e0b\\u5c31\\u505a\\u51fa\\u4f86\\uff0c\\u4e0d\\u9700\\u8981\\u81ea\\u5df1\\u53bb\\u5bebcode'},\n",
       "   {u'created_time': u'2016-04-30T09:21:11+0000',\n",
       "    u'id': u'1233266413_10206655110956449',\n",
       "    u'message': u'\\u7d93\\u904e\\u8cc7\\u5de5\\u7cfb\\u7cfb\\u9928\\uff0c\\u5c31\\u4e0d\\u7981\\u806f\\u60f3\\u5230______\\u88ab________\\u4e86...\\u771f\\u662f\\u89f8\\u666f\\u751f\\u60c5\\u3002',\n",
       "    u'story': u'Mark Chang at \\u81fa\\u5927\\u96fb\\u6a5f\\u4e8c\\u9928.'},\n",
       "   {u'created_time': u'2016-04-29T15:22:51+0000',\n",
       "    u'id': u'1233266413_10206649949547417',\n",
       "    u'message': u'Neural Doodle\\nhttps://github.com/alexjc/neural-doodle\\n\\n\\u628aNeural Doodle\\u7684semantic map\\u62ff\\u6389\\uff0c\\u505a\\u51fa\\u4f86\\u7684\\u6548\\u679c\\u5c31\\u8ddfCNNMRF\\u883b\\u7d2f\\u4f3c\\u7684\\nhttps://github.com/chuanli11/CNNMRF'},\n",
       "   {u'created_time': u'2016-04-26T15:58:43+0000',\n",
       "    u'id': u'1233266413_10206631955817585',\n",
       "    u'message': u'https://www.ptt.cc/bbs/Boy-Girl/M.1461604110.A.F46.html'},\n",
       "   {u'created_time': u'2016-04-25T03:30:06+0000',\n",
       "    u'id': u'1233266413_10206622180413206',\n",
       "    u'message': u'http://gitxiv.com/posts/t8f7zsx5TFxLGQcZB/perceptual-losses-for-real-time-style-transfer-and-super'},\n",
       "   {u'created_time': u'2016-04-22T09:12:03+0000',\n",
       "    u'id': u'1233266413_10206602447759902',\n",
       "    u'story': u'Mark Chang shared a link.'},\n",
       "   {u'created_time': u'2016-04-20T11:31:40+0000',\n",
       "    u'id': u'1233266413_10206588669255448',\n",
       "    u'story': u\"Mark Chang shared \\u9760\\u5317\\u5de5\\u7a0b\\u5e2b's post.\"},\n",
       "   {u'created_time': u'2016-04-18T17:35:55+0000',\n",
       "    u'id': u'1233266413_10206576756197629',\n",
       "    u'message': u'\\u9019\\u6b21\\u6bd4\\u8f03\\u6df7 \\u61f6\\u5f97\\u81ea\\u5df1\\u8dd1\\u5716 \\u76f4\\u63a5\\u62ffpaper\\u4e0a\\u7684\\u5716\\u4f86\\u7528\\n'},\n",
       "   {u'created_time': u'2016-04-17T14:12:27+0000',\n",
       "    u'id': u'1233266413_10206569063645320',\n",
       "    u'story': u\"Mark Chang shared A Ray Wu's post.\"},\n",
       "   {u'created_time': u'2016-04-16T10:34:46+0000',\n",
       "    u'id': u'1233266413_10206561601058760',\n",
       "    u'story': u\"Mark Chang shared \\u9760\\u5317\\u5de5\\u7a0b\\u5e2b's photo.\"}],\n",
       "  u'paging': {u'next': u'https://graph.facebook.com/v2.5/1233266413/posts?access_token=EAACEdEose0cBAGVqzUafyZCDG7WiZBY6e104Dt1NuLeI4Yi5mIqMhWX18P17vXbVpS019ZCweZCyNQ84ML4ZCyA23K0Oni0LfAbVG4m7NilkyLjQOZARDpmRAAZBAxbzusEf6tbVo7TAoHQcrzO5Mfk2Hgw7jajePTrX5oisofNbQZDZD&limit=25&until=1460802886&__paging_token=enc_AdCjiDAI8ZCeod0lXZBvvJjfUbOJXvMQmWJURxptZAgPsJzckgkMfnxcjV56ivtiHrzCZCeMLo4pziEdWZCqBAgydK41s',\n",
       "   u'previous': u'https://graph.facebook.com/v2.5/1233266413/posts?since=1462863330&access_token=EAACEdEose0cBAGVqzUafyZCDG7WiZBY6e104Dt1NuLeI4Yi5mIqMhWX18P17vXbVpS019ZCweZCyNQ84ML4ZCyA23K0Oni0LfAbVG4m7NilkyLjQOZARDpmRAAZBAxbzusEf6tbVo7TAoHQcrzO5Mfk2Hgw7jajePTrX5oisofNbQZDZD&limit=25&__paging_token=enc_AdC2LjZCLE1asDZB0MIwfQvI9MZCOoscwRLfgnWVNcA60N0pJAhFNTNOivNr72bfpQOEiuVVDE3l4qPJLI9I0TQwPLJ&__previous=1'}}}"
      ]
     },
     "execution_count": 33,
     "metadata": {},
     "output_type": "execute_result"
    }
   ],
   "source": [
    "graph.get_object(\"1233266413\", fields=\"posts\")"
   ]
  }
 ],
 "metadata": {
  "kernelspec": {
   "display_name": "Python 2",
   "language": "python",
   "name": "python2"
  },
  "language_info": {
   "codemirror_mode": {
    "name": "ipython",
    "version": 2
   },
   "file_extension": ".py",
   "mimetype": "text/x-python",
   "name": "python",
   "nbconvert_exporter": "python",
   "pygments_lexer": "ipython2",
   "version": "2.7.11"
  }
 },
 "nbformat": 4,
 "nbformat_minor": 0
}
