{
 "cells": [
  {
   "cell_type": "code",
   "execution_count": 1,
   "metadata": {
    "collapsed": true
   },
   "outputs": [],
   "source": [
    "# http://www.blog.pythonlibrary.org/2012/07/18/python-a-simple-step-by-step-sqlite-tutorial/\n",
    "import sqlite3\n",
    " \n",
    "conn = sqlite3.connect(\"mydatabase.db\") # or use :memory: to put it in RAM\n",
    " \n",
    "cursor = conn.cursor()\n",
    " \n",
    "# create a table\n",
    "cursor.execute(\"\"\"CREATE TABLE albums\n",
    "                  (title text, artist text, release_date text, \n",
    "                   publisher text, media_type text) \n",
    "               \"\"\")\n",
    "\n",
    "# insert some data\n",
    "cursor.execute(\"INSERT INTO albums VALUES ('Glow', 'Andy Hunter', '7/24/2012', 'Xplore Records', 'MP3')\")\n",
    " \n",
    "# save data to database\n",
    "conn.commit()\n",
    " \n",
    "# insert multiple records using the more secure \"?\" method\n",
    "albums = [('Exodus', 'Andy Hunter', '7/9/2002', 'Sparrow Records', 'CD'),\n",
    "          ('Until We Have Faces', 'Red', '2/1/2011', 'Essential Records', 'CD'),\n",
    "          ('The End is Where We Begin', 'Thousand Foot Krutch', '4/17/2012', 'TFKmusic', 'CD'),\n",
    "          ('The Good Life', 'Trip Lee', '4/10/2012', 'Reach Records', 'CD')]\n",
    "cursor.executemany(\"INSERT INTO albums VALUES (?,?,?,?,?)\", albums)\n",
    "conn.commit()\n",
    "\n",
    "conn.close()"
   ]
  },
  {
   "cell_type": "code",
   "execution_count": null,
   "metadata": {
    "collapsed": true
   },
   "outputs": [],
   "source": []
  }
 ],
 "metadata": {
  "kernelspec": {
   "display_name": "Python 2",
   "language": "python",
   "name": "python2"
  },
  "language_info": {
   "codemirror_mode": {
    "name": "ipython",
    "version": 2
   },
   "file_extension": ".py",
   "mimetype": "text/x-python",
   "name": "python",
   "nbconvert_exporter": "python",
   "pygments_lexer": "ipython2",
   "version": "2.7.9"
  }
 },
 "nbformat": 4,
 "nbformat_minor": 0
}
