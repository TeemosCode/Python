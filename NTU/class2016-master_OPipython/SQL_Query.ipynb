{
 "cells": [
  {
   "cell_type": "code",
   "execution_count": 4,
   "metadata": {
    "collapsed": false
   },
   "outputs": [
    {
     "name": "stdout",
     "output_type": "stream",
     "text": [
      "[(u'The Good Life', u'Trip Lee', u'4/10/2012', u'Reach Records', u'CD')]\n",
      "\n",
      "Here's a listing of all the records in the table:\n",
      "\n",
      "(1, u'Glow', u'John Doe', u'7/24/2012', u'Xplore Records', u'MP3')\n",
      "(2, u'Exodus', u'John Doe', u'7/9/2002', u'Sparrow Records', u'CD')\n",
      "(3, u'Until We Have Faces', u'Red', u'2/1/2011', u'Essential Records', u'CD')\n",
      "(4, u'The End is Where We Begin', u'Thousand Foot Krutch', u'4/17/2012', u'TFKmusic', u'CD')\n",
      "(5, u'The Good Life', u'Trip Lee', u'4/10/2012', u'Reach Records', u'CD')\n",
      "\n",
      "Results from a LIKE query:\n",
      "\n",
      "[(u'Glow', u'John Doe', u'7/24/2012', u'Xplore Records', u'MP3'), (u'Exodus', u'John Doe', u'7/9/2002', u'Sparrow Records', u'CD'), (u'The Good Life', u'Trip Lee', u'4/10/2012', u'Reach Records', u'CD')]\n"
     ]
    }
   ],
   "source": [
    "# http://www.blog.pythonlibrary.org/2012/07/18/python-a-simple-step-by-step-sqlite-tutorial/\n",
    "\n",
    "import sqlite3\n",
    " \n",
    "conn = sqlite3.connect(\"mydatabase.db\")\n",
    "#conn.row_factory = sqlite3.Row\n",
    "cursor = conn.cursor()\n",
    " \n",
    "sql = \"SELECT * FROM albums WHERE artist=?\"\n",
    "cursor.execute(sql, [(\"Trip Lee\")])\n",
    "print cursor.fetchall()  # or use fetchone()\n",
    " \n",
    "print \"\\nHere's a listing of all the records in the table:\\n\"\n",
    "for row in cursor.execute(\"SELECT rowid, * FROM albums ORDER BY artist\"):\n",
    "    print row\n",
    " \n",
    "print \"\\nResults from a LIKE query:\\n\"\n",
    "sql = \"\"\"\n",
    "SELECT * FROM albums \n",
    "WHERE title LIKE '%O%'\"\"\"\n",
    "cursor.execute(sql)\n",
    "print cursor.fetchall()"
   ]
  },
  {
   "cell_type": "code",
   "execution_count": null,
   "metadata": {
    "collapsed": true
   },
   "outputs": [],
   "source": []
  }
 ],
 "metadata": {
  "kernelspec": {
   "display_name": "Python 2",
   "language": "python",
   "name": "python2"
  },
  "language_info": {
   "codemirror_mode": {
    "name": "ipython",
    "version": 2
   },
   "file_extension": ".py",
   "mimetype": "text/x-python",
   "name": "python",
   "nbconvert_exporter": "python",
   "pygments_lexer": "ipython2",
   "version": "2.7.9"
  }
 },
 "nbformat": 4,
 "nbformat_minor": 0
}
