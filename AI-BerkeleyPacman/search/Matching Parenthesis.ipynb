{
 "cells": [
  {
   "cell_type": "code",
   "execution_count": 33,
   "metadata": {
    "collapsed": true
   },
   "outputs": [],
   "source": [
    "def isValid(s):\n",
    "    \n",
    "    stack = []\n",
    "    openStr = \"([{\"\n",
    "    endStr = \")]}\"\n",
    "    for string in s:\n",
    "        if string in openStr:\n",
    "            stack.append(string)\n",
    "        elif string in endStr:\n",
    "            try:\n",
    "                ss = stack.pop()\n",
    "            except Exception:\n",
    "                return False\n",
    "            if openStr.index(ss) != endStr.index(string):\n",
    "                return False\n",
    "    if len(stack) != 0:\n",
    "        return False\n",
    "    else:\n",
    "        return True\n",
    "            "
   ]
  },
  {
   "cell_type": "code",
   "execution_count": 34,
   "metadata": {
    "collapsed": false
   },
   "outputs": [
    {
     "data": {
      "text/plain": [
       "False"
      ]
     },
     "execution_count": 34,
     "metadata": {},
     "output_type": "execute_result"
    }
   ],
   "source": [
    "isValid(\"[\")"
   ]
  },
  {
   "cell_type": "code",
   "execution_count": null,
   "metadata": {
    "collapsed": true
   },
   "outputs": [],
   "source": []
  },
  {
   "cell_type": "code",
   "execution_count": null,
   "metadata": {
    "collapsed": true
   },
   "outputs": [],
   "source": []
  }
 ],
 "metadata": {
  "anaconda-cloud": {},
  "kernelspec": {
   "display_name": "Python [default]",
   "language": "python",
   "name": "python3"
  },
  "language_info": {
   "codemirror_mode": {
    "name": "ipython",
    "version": 3
   },
   "file_extension": ".py",
   "mimetype": "text/x-python",
   "name": "python",
   "nbconvert_exporter": "python",
   "pygments_lexer": "ipython3",
   "version": "3.5.2"
  }
 },
 "nbformat": 4,
 "nbformat_minor": 2
}
