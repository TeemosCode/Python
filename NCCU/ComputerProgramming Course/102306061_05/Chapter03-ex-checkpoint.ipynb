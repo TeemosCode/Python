{
 "cells": [
  {
   "cell_type": "code",
   "execution_count": 8,
   "metadata": {
    "collapsed": false
   },
   "outputs": [
    {
     "name": "stdout",
     "output_type": "stream",
     "text": [
      "Length of word: 5\n",
      "                                                                 allen\n",
      "Length of word: 9\n",
      "                                                             102306061\n",
      "Length of word: 4\n",
      "                                                                  hola\n",
      "Length of word: 14\n",
      "                                                        Ping_Roger_che\n",
      "Length of word: 37\n",
      "                                 I will become a python god, oh ya!!!!\n"
     ]
    }
   ],
   "source": [
    "#102306061 資管三甲 何秉哲\n",
    "\n",
    "#Exercise 3.3\n",
    "def right_justify(s):\n",
    "    l = len(s) \n",
    "    print(\"Length of word:\", l)\n",
    "    seventy = 70\n",
    "    print((seventy - l) * \" \" + s)\n",
    "\n",
    "right_justify(\"allen\")\n",
    "right_justify('102306061')\n",
    "right_justify('hola')\n",
    "right_justify('Ping_Roger_che')\n",
    "right_justify(\"I will become a python god, oh ya!!!!\")"
   ]
  },
  {
   "cell_type": "code",
   "execution_count": 11,
   "metadata": {
    "collapsed": false
   },
   "outputs": [
    {
     "name": "stdout",
     "output_type": "stream",
     "text": [
      "spam\n",
      "spam\n"
     ]
    }
   ],
   "source": [
    "#Exercise 3.4.1\n",
    "def print_spam():\n",
    "    print('spam')\n",
    "\n",
    "def do_twice(f):\n",
    "    f()\n",
    "    f()\n",
    "do_twice(print_spam)"
   ]
  },
  {
   "cell_type": "code",
   "execution_count": 12,
   "metadata": {
    "collapsed": false
   },
   "outputs": [
    {
     "name": "stdout",
     "output_type": "stream",
     "text": [
      "102306061_HW5\n",
      "102306061_HW5\n"
     ]
    }
   ],
   "source": [
    "#Exercise 3.4.2\n",
    "def print_spam(spam = 'spam'):\n",
    "    print(spam)\n",
    "    \n",
    "def do_twice(f , v):\n",
    "    f(v)\n",
    "    f(v)\n",
    "\n",
    "do_twice(print_spam, \"102306061_HW5\")"
   ]
  },
  {
   "cell_type": "code",
   "execution_count": 13,
   "metadata": {
    "collapsed": false
   },
   "outputs": [
    {
     "name": "stdout",
     "output_type": "stream",
     "text": [
      "何秉哲\n",
      "何秉哲\n"
     ]
    }
   ],
   "source": [
    "#Exercise 3.4.3\n",
    "def print_twice(s):\n",
    "    print(s)\n",
    "    print(s)\n",
    "\n",
    "print_twice(\"何秉哲\")"
   ]
  },
  {
   "cell_type": "code",
   "execution_count": 14,
   "metadata": {
    "collapsed": false
   },
   "outputs": [
    {
     "name": "stdout",
     "output_type": "stream",
     "text": [
      "102306061_資管三甲_何秉哲\n",
      "102306061_資管三甲_何秉哲\n",
      "102306061_資管三甲_何秉哲\n",
      "102306061_資管三甲_何秉哲\n"
     ]
    }
   ],
   "source": [
    "#Exercise 3.4.4\n",
    "do_twice(print_twice, \"102306061_資管三甲_何秉哲\")"
   ]
  },
  {
   "cell_type": "code",
   "execution_count": 19,
   "metadata": {
    "collapsed": false
   },
   "outputs": [
    {
     "name": "stdout",
     "output_type": "stream",
     "text": [
      "Let's print 4 Times with 2 Statements, YAY!\n",
      "Let's print 4 Times with 2 Statements, YAY!\n",
      "Let's print 4 Times with 2 Statements, YAY!\n",
      "Let's print 4 Times with 2 Statements, YAY!\n"
     ]
    }
   ],
   "source": [
    "#Exercise 3.4.5\n",
    "def do_four(f , v):\n",
    "    for x in range(4):\n",
    "        f(v)\n",
    "\n",
    "do_four(print_spam , \"Let's print 4 Times with 2 Statements, YAY!\")"
   ]
  },
  {
   "cell_type": "code",
   "execution_count": 5,
   "metadata": {
    "collapsed": false
   },
   "outputs": [
    {
     "name": "stdout",
     "output_type": "stream",
     "text": [
      "+ - - - - + - - - - +\n",
      "|         |         |\n",
      "|         |         |\n",
      "|         |         |\n",
      "|         |         |\n",
      "+ - - - - + - - - - +\n",
      "|         |         |\n",
      "|         |         |\n",
      "|         |         |\n",
      "|         |         |\n",
      "+ - - - - + - - - - +\n"
     ]
    }
   ],
   "source": [
    "#Exercise 3.5.1\n",
    "def draw_grid_with_plus_sign():\n",
    "    print(\"+\",\"-\",\"-\",\"-\",\"-\",\"+\",\"-\",\"-\",\"-\",\"-\",\"+\")\n",
    "def draw_grid_with_vertical_sign():\n",
    "    print('|',\" \",\" \",\" \",\" \",\"|\",\" \",\" \",\" \",\" \",\"|\")\n",
    "\n",
    "def draw_four_times(f):\n",
    "    do_twice(f)\n",
    "    do_twice(f)\n",
    "def draw_grid():\n",
    "    draw_grid_with_plus_sign()\n",
    "    draw_four_times(draw_grid_with_vertical_sign)\n",
    "\n",
    "def do_twice(f):\n",
    "    f()\n",
    "    f()\n",
    "\n",
    "do_twice(draw_grid)\n",
    "draw_grid_with_plus_sign()"
   ]
  },
  {
   "cell_type": "code",
   "execution_count": 10,
   "metadata": {
    "collapsed": false
   },
   "outputs": [
    {
     "name": "stdout",
     "output_type": "stream",
     "text": [
      "+ - - - - + - - - - + - - - - + - - - - +\n",
      "|         |         |         |         |\n",
      "|         |         |         |         |\n",
      "|         |         |         |         |\n",
      "|         |         |         |         |\n",
      "+ - - - - + - - - - + - - - - + - - - - +\n",
      "|         |         |         |         |\n",
      "|         |         |         |         |\n",
      "|         |         |         |         |\n",
      "|         |         |         |         |\n",
      "+ - - - - + - - - - + - - - - + - - - - +\n",
      "|         |         |         |         |\n",
      "|         |         |         |         |\n",
      "|         |         |         |         |\n",
      "|         |         |         |         |\n",
      "+ - - - - + - - - - + - - - - + - - - - +\n",
      "|         |         |         |         |\n",
      "|         |         |         |         |\n",
      "|         |         |         |         |\n",
      "|         |         |         |         |\n",
      "+ - - - - + - - - - + - - - - + - - - - +\n"
     ]
    }
   ],
   "source": [
    "#Exercise 3.5.2\n",
    "def draw_plus_row():\n",
    "    print(\"+\",\"-\",\"-\",\"-\",\"-\",\"+\",\"-\",\"-\",\"-\",\"-\",\"+\",\"-\",\"-\",\"-\",\"-\",\"+\",\"-\",\"-\",\"-\",\"-\",\"+\")\n",
    "def draw_vertical_row():\n",
    "    print('|',\" \",\" \",\" \",\" \",\"|\",\" \",\" \",\" \",\" \",\"|\",\" \",\" \",\" \",\" \",\"|\",\" \",\" \",\" \",\" \",\"|\")\n",
    "    \n",
    "def draw_four_times(f):\n",
    "    f()\n",
    "    f()\n",
    "    f()\n",
    "    f()\n",
    "def draw_quarter_graph(f1 = draw_plus_row,f2 = draw_vertical_row):\n",
    "    f1()\n",
    "    draw_four_times(f2)\n",
    "\n",
    "draw_four_times(draw_quarter_graph)\n",
    "draw_plus_row()\n",
    "\n",
    "\n",
    "\n"
   ]
  }
 ],
 "metadata": {
  "kernelspec": {
   "display_name": "Python 3",
   "language": "python",
   "name": "python3"
  },
  "language_info": {
   "codemirror_mode": {
    "name": "ipython",
    "version": 3
   },
   "file_extension": ".py",
   "mimetype": "text/x-python",
   "name": "python",
   "nbconvert_exporter": "python",
   "pygments_lexer": "ipython3",
   "version": "3.5.1"
  }
 },
 "nbformat": 4,
 "nbformat_minor": 0
}
