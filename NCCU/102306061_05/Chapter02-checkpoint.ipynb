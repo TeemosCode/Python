{
 "cells": [
  {
   "cell_type": "code",
   "execution_count": 10,
   "metadata": {
    "collapsed": false
   },
   "outputs": [
    {
     "name": "stdout",
     "output_type": "stream",
     "text": [
      "Question_1,  VALUE:  8.5 , TYPE: <class 'float'>\n",
      "-----------------------------------\n",
      "Question_2,  VALUE:  8.5 , TYPE: <class 'float'>\n",
      "-----------------------------------\n",
      "Question_3,  VALUE:  4.0 , TYPE: <class 'float'>\n",
      "-----------------------------------\n",
      "Question_4,  VALUE:  11 , TYPE: <class 'int'>\n",
      "-----------------------------------\n",
      "Question_5,  VALUE:  ..... , TYPE: <class 'str'>\n",
      "-----------------------------------\n"
     ]
    }
   ],
   "source": [
    "#102306061 資管三甲 何秉哲\n",
    "#Exercise 2.3\n",
    "def Exercise2_3():\n",
    "    width = 17\n",
    "    height = 12.0\n",
    "    delimiter = '.'\n",
    "    \n",
    "    #Question 1\n",
    "    q1 = width/2\n",
    "    #Question 2\n",
    "    q2 = width/2.0\n",
    "    #Question 3\n",
    "    q3 = height / 3\n",
    "    #Question 4\n",
    "    q4 = 1+2*5\n",
    "    #Question 5\n",
    "    q5 = delimiter * 5\n",
    "    #create a list of the questions' names and answers to iterate through\n",
    "    ls = [['Question_1, ',q1],\n",
    "          ['Question_2, ',q2],\n",
    "          ['Question_3, ',q3],\n",
    "          ['Question_4, ',q4],\n",
    "          ['Question_5, ',q5]]\n",
    "    \n",
    "    for x in ls:\n",
    "        print(x[0], 'VALUE: ' , x[1], ', TYPE:', type(x[1]))\n",
    "        print('-----------------------------------')\n",
    "\n",
    "\n",
    "Exercise2_3()"
   ]
  },
  {
   "cell_type": "code",
   "execution_count": 13,
   "metadata": {
    "collapsed": false
   },
   "outputs": [
    {
     "name": "stdout",
     "output_type": "stream",
     "text": [
      "Question_1, Answer:  523.5987755982989\n",
      "---------------------------\n",
      "Question_2, Answer:  945.4499999999999\n",
      "---------------------------\n",
      "Question_3, Answer:  7 : 30 : 6 PM\n"
     ]
    }
   ],
   "source": [
    "#102306061 資管三甲 何秉哲\n",
    "#Exercise 2.4\n",
    "from math import pi\n",
    "def Exercise2_4():\n",
    "    #Question_1 \n",
    "    r = 5 # radius of 5\n",
    "    q1 = (4/3)*pi*r**3\n",
    "    print('Question_1, Answer: ', q1)\n",
    "    print('---------------------------')\n",
    "    \n",
    "    #Question_2\n",
    "    cover_price = 24.95\n",
    "    discount = 0.4\n",
    "    firstShippingCost = 3\n",
    "    shippingCost = 0.75\n",
    "    copies = 60\n",
    "    totalWholeSale = copies*cover_price*(1-discount) + firstShippingCost * 1 + (copies - 1)*shippingCost\n",
    "    q2 = totalWholeSale\n",
    "    print('Question_2, Answer: ', q2)\n",
    "    print('---------------------------')\n",
    "    \n",
    "    #Question_3\n",
    "    startTimeHour = 6\n",
    "    startTimeMinute = 52\n",
    "    easyPaceMinute = 8\n",
    "    easyPaceSecond = 15\n",
    "    tempoMinute = 7\n",
    "    tempoSecond = 12\n",
    "    endTimeHour = startTimeHour\n",
    "    \n",
    "    endTimeSecond = 2 * easyPaceSecond + 3*tempoSecond\n",
    "    endTimeMinute = 2 * easyPaceMinute + 3*tempoMinute + startTimeMinute\n",
    "    \n",
    "    if endTimeSecond >= 60:\n",
    "        endTimeMinute += endTimeSecond//60\n",
    "        endTimeSecond = endTimeSecond%60\n",
    "    if endTimeMinute >= 60:\n",
    "        endTimeHour += endTimeMinute//60\n",
    "        endTimeMinute = endTimeMinute%60\n",
    "            \n",
    "    if endTimeHour > 12:\n",
    "        endTimeHour = endTimeHour%12\n",
    "        \n",
    "        print('Question_3, Answer: ', endTimeHour , \":\" , endTimeMinute, \":\", endTimeSecond, 'AM')\n",
    "    else:\n",
    "        print('Question_3, Answer: ', endTimeHour , \":\" , endTimeMinute, \":\", endTimeSecond, 'PM')\n",
    "    \n",
    "    \n",
    "    \n",
    "Exercise2_4()"
   ]
  },
  {
   "cell_type": "code",
   "execution_count": null,
   "metadata": {
    "collapsed": true
   },
   "outputs": [],
   "source": []
  }
 ],
 "metadata": {
  "kernelspec": {
   "display_name": "Python 3",
   "language": "python",
   "name": "python3"
  },
  "language_info": {
   "codemirror_mode": {
    "name": "ipython",
    "version": 3
   },
   "file_extension": ".py",
   "mimetype": "text/x-python",
   "name": "python",
   "nbconvert_exporter": "python",
   "pygments_lexer": "ipython3",
   "version": "3.5.1"
  }
 },
 "nbformat": 4,
 "nbformat_minor": 0
}
